{
 "cells": [
  {
   "cell_type": "markdown",
   "metadata": {},
   "source": [
    "Short course **\"Interactive analysis of Big Earth Data with Jupyter Notebooks\"** | EGU 2019"
   ]
  },
  {
   "cell_type": "markdown",
   "metadata": {},
   "source": [
    "# 2 Big Earth Data Access\n",
    "### from different data repositories, e.g. Climate Data Store, Google Earth Engine or Earth on AWS"
   ]
  },
  {
   "cell_type": "markdown",
   "metadata": {},
   "source": [
    "<hr>\n",
    "<a target=\"_blank\" href=\"./01_Introduction_Jupyter_Notebooks.ipynb\"> << 1 - Introduction to Jupyter Notebooks</a>&nbsp;<space>&nbsp;<space>&nbsp;<space>&nbsp;<space>&nbsp;<space>&nbsp;<space>&nbsp;<space>&nbsp;<space>&nbsp;<space>&nbsp;<space> <a target=\"_blank\" href=\"./03_Introduction_Jupyter_widgets.ipynb\"> 3 - Introducing Jupyter widgets >></a>"
   ]
  },
  {
   "cell_type": "markdown",
   "metadata": {},
   "source": [
    "## Overview of Big Earth Data repositories\n",
    "\n",
    "There is a lot of open environmental data available. The problem is often that people do not know where to find the data and how to access it.\n",
    "We will go through three Big Earth Data repositories today.\n",
    "\n",
    "\n",
    "* [2.1 Copernicus Climate Data Store (CDS)](#cds)\n",
    "* [2.2 Google Earth Engine (GEE)](#gee)\n",
    "* [2.3 Earth on Amazon Web Services (AWS)](#earth_aws)\n",
    "\n",
    "\n",
    "<img src=\"./img/data_services.png\" align=\"center\" width=\"80%\"></img><br>\n",
    "\n",
    "\n",
    "\n"
   ]
  },
  {
   "cell_type": "markdown",
   "metadata": {},
   "source": [
    "<hr>"
   ]
  },
  {
   "cell_type": "markdown",
   "metadata": {},
   "source": [
    "## <a id=\"cds\"></a> 2.1 Copernicus Climate Data Store (CDS)"
   ]
  },
  {
   "cell_type": "markdown",
   "metadata": {},
   "source": [
    "<img src=\"./img/cds_logo.jpg\" align=\"right\" width=\"30%\"></img>\n",
    "The [Copernicus Climate Data Store (CDS)](cds.copernicus.eu) is a one-stop shop for information about the climate: past, present and future. It is operated by the [European Centre for Medium-Range Weather Forecasts(ECMWF)](https://ecmwf.int).\n",
    "\n",
    "\n",
    "It consists of two parts:\n",
    "* Access to Climate Datasets via a [web interface](https://cds.climate.copernicus.eu/cdsapp#!/search?type=dataset) or programmatically via the [Climate Data Store API](https://cds.climate.copernicus.eu/api-how-to)\n",
    "* Analyse and visualise climate data with the [Climate Data Store toolbox (Python interface)](https://cds.climate.copernicus.eu/user/login?destination=/toolbox-user)\n",
    "\n",
    "Data are natively available in GRIB and NetCDF."
   ]
  },
  {
   "cell_type": "markdown",
   "metadata": {},
   "source": [
    "### Data available on the CDS (a selection)"
   ]
  },
  {
   "cell_type": "markdown",
   "metadata": {},
   "source": [
    "The climate data store has a wide variety of climate data, e.g.:\n",
    "* **ERA5 climate reanalysis**\n",
    "* **Seasonal forecasts**\n",
    "* **Climate projections**\n",
    "* **Sectoral climate indices**\n",
    "\n",
    "Have a look and browse through [all the publicly available datasets on the CDS](https://cds.climate.copernicus.eu/cdsapp#!/search?type=dataset). \n",
    "\n",
    "ECMWF has many more publicly available datasets, e.g. data on flood, fire risk and air quality (provided by the [Copernicus Atmosphere Monitoring Service](https://atmosphere.copernicus.eu). Have a look at [ECMWF's public datasets](https://apps.ecmwf.int/datasets/).\n"
   ]
  },
  {
   "cell_type": "markdown",
   "metadata": {},
   "source": [
    "### Example to download ERA5 data in GRIB"
   ]
  },
  {
   "cell_type": "markdown",
   "metadata": {},
   "source": [
    "Required non-standard libraries:\n",
    "* [cdsapi](https://pypi.org/project/cdsapi/)\n",
    "* [urllib](https://docs.python.org/3/library/urllib.html)"
   ]
  },
  {
   "cell_type": "code",
   "execution_count": null,
   "metadata": {},
   "outputs": [],
   "source": [
    "import os, ssl\n",
    "if (not os.environ.get('PYTHONHTTPSVERIFY', '') and\n",
    "    getattr(ssl, '_create_unverified_context', None)): \n",
    "    ssl._create_default_https_context = ssl._create_unverified_context"
   ]
  },
  {
   "cell_type": "code",
   "execution_count": null,
   "metadata": {},
   "outputs": [],
   "source": [
    "import cdsapi\n",
    "import os\n",
    "import urllib\n",
    "import sys\n",
    "\n",
    "c = cdsapi.Client()\n",
    "\n",
    "os.chdir('./')\n",
    "\n",
    "def retrieve_func():\n",
    "    data = c.retrieve(\n",
    "    'reanalysis-era5-single-levels',\n",
    "    {\n",
    "        'product_type':'reanalysis',\n",
    "        'format':'netcdf',\n",
    "        'variable':'2m_temperature',\n",
    "        'year':'2019',\n",
    "        'month':'01',\n",
    "        'day':'01',\n",
    "        'time':'12:00',\n",
    "        # Natively ERA5 data are on a 0-360 longitude grid\n",
    "        'area':'90/-180/-90/179.75'\n",
    "    },\n",
    "    'download.nc')\n",
    "    return data\n",
    "\n",
    "\n",
    "filename = \"era5_t2m_test.nc\"\n",
    "data = retrieve_func()\n",
    "urllib.request.urlretrieve(data.location, filename)\n",
    "\n",
    "sys.exit()"
   ]
  },
  {
   "cell_type": "markdown",
   "metadata": {},
   "source": [
    "### Example to open a NetCDF file with xarray"
   ]
  },
  {
   "cell_type": "markdown",
   "metadata": {},
   "source": [
    "Useful Python libraries to open NetCDF / GRIB files:\n",
    "* [xarray](http://xarray.pydata.org/en/stable/) - Natively supports NetCDF\n",
    "* [cfgrib](https://github.com/ecmwf/cfgrib) - A Python interface that supports GRIB engine for the xarray library\n",
    "* [netCDF4](http://unidata.github.io/netcdf4-python/netCDF4/index.html) - A Python interface to the netCDF4 C library"
   ]
  },
  {
   "cell_type": "code",
   "execution_count": null,
   "metadata": {},
   "outputs": [],
   "source": [
    " import xarray as xr"
   ]
  },
  {
   "cell_type": "code",
   "execution_count": null,
   "metadata": {},
   "outputs": [],
   "source": [
    "test = xr.open_dataset('era5_test.nc')\n",
    "print(test)"
   ]
  },
  {
   "cell_type": "markdown",
   "metadata": {},
   "source": [
    "### Good news for R users"
   ]
  },
  {
   "cell_type": "markdown",
   "metadata": {},
   "source": [
    "Koen Huefkens and Reto Stauffer just released the CRAN package [ecmwfr](https://cran.r-project.org/web/packages/ecmwfr/index.html), which is a programmatic interface to public data at ECMWF and on the CDS.\n",
    "\n",
    "* [ecmwfr](https://cran.r-project.org/web/packages/ecmwfr/index.html)"
   ]
  },
  {
   "cell_type": "markdown",
   "metadata": {},
   "source": [
    "<hr>"
   ]
  },
  {
   "cell_type": "markdown",
   "metadata": {},
   "source": [
    "## <a id='gee'></a> 2.2 Google Earth Engine"
   ]
  },
  {
   "cell_type": "markdown",
   "metadata": {},
   "source": [
    "<img src=\"./img/gee_logo_2.png\" align=\"right\" width=\"35%\"></img>\n",
    "[Google Earth Engine (GEE)](https://earthengine.google.com/) is a planetary-scale platform for Earth science data & analysis. \n",
    "\n",
    "There are several ways to work with the Google Earth Engine:\n",
    "* [Code Editor]( code.earthengine.google.com), a web-based IDE in Javascript\n",
    "* [Client libraries](https://github.com/google/earthengine-api) provide Javascript and Python wrapper functions for the Earth Engine API\n",
    "\n",
    "You have to sign up for GEE."
   ]
  },
  {
   "cell_type": "markdown",
   "metadata": {},
   "source": [
    "### Data available on GEE"
   ]
  },
  {
   "cell_type": "markdown",
   "metadata": {},
   "source": [
    "Earth Engine's data archive includes:\n",
    "* **Weather and Climate Data**\n",
    "    * A selection of ERA5 reanalysis **[SOON PUBLICLY AVAILABLE]**\n",
    "    * TRMM precipitation\n",
    "* **Imagery**\n",
    "    * Landsat\n",
    "    * Sentinel\n",
    "    * MODIS\n",
    "    \n",
    "... and many more. Have a look yourself at the [Earth Engine Data Catalog](https://developers.google.com/earth-engine/datasets/catalog/)."
   ]
  },
  {
   "cell_type": "markdown",
   "metadata": {},
   "source": [
    "### Example how to load an image from GEE and to interactively visualize it with ipyleaflet"
   ]
  },
  {
   "cell_type": "markdown",
   "metadata": {},
   "source": [
    "Required libraries:\n",
    "* [Earth Engine Python API](https://developers.google.com/earth-engine/python_install)\n",
    "* [ipyleaflet](https://ipyleaflet.readthedocs.io/en/latest/)"
   ]
  },
  {
   "cell_type": "code",
   "execution_count": null,
   "metadata": {},
   "outputs": [],
   "source": [
    "%matplotlib inline"
   ]
  },
  {
   "cell_type": "code",
   "execution_count": null,
   "metadata": {},
   "outputs": [],
   "source": [
    "import ee"
   ]
  },
  {
   "cell_type": "code",
   "execution_count": null,
   "metadata": {},
   "outputs": [],
   "source": [
    "from ipyleaflet import Map, basemaps, basemap_to_tiles, FullScreenControl, Marker\n",
    "import ipyleaflet\n",
    "import ipywidgets\n",
    "import ipywidgets as widgets\n",
    "from IPython.display import display, clear_output"
   ]
  },
  {
   "cell_type": "code",
   "execution_count": null,
   "metadata": {},
   "outputs": [],
   "source": [
    "# Initialize ee with access token\n",
    "ee.Initialize()"
   ]
  },
  {
   "cell_type": "markdown",
   "metadata": {},
   "source": [
    "Function below is taken from Tyler Erickson's [notebooks](https://github.com/tylere/EEUS2018-JupyterSession/blob/master/02%20-%20Interactive%20Maps.ipynb) for his Interactive Jupyter session at EEUS18."
   ]
  },
  {
   "cell_type": "code",
   "execution_count": null,
   "metadata": {},
   "outputs": [],
   "source": [
    "def GetTileLayerUrl(ee_image_object):\n",
    "  map_id = ee.Image(ee_image_object).getMapId()\n",
    "  tile_url_template = \"https://earthengine.googleapis.com/map/{mapid}/{{z}}/{{x}}/{{y}}?token={token}\"\n",
    "  return tile_url_template.format(**map_id)"
   ]
  },
  {
   "cell_type": "markdown",
   "metadata": {},
   "source": [
    "### Load an ERA5 image and get image information"
   ]
  },
  {
   "cell_type": "code",
   "execution_count": null,
   "metadata": {},
   "outputs": [],
   "source": [
    "img_test = ee.Image('projects/ecmwf/era5_monthly/200001')\n",
    "img_test.getInfo()"
   ]
  },
  {
   "cell_type": "markdown",
   "metadata": {},
   "source": [
    "### Select one specific parameter"
   ]
  },
  {
   "cell_type": "code",
   "execution_count": null,
   "metadata": {},
   "outputs": [],
   "source": [
    "t2m = img_test.select('t2m')\n",
    "tp = img_test.select('tp')"
   ]
  },
  {
   "cell_type": "markdown",
   "metadata": {},
   "source": [
    "### Get image url for visualization"
   ]
  },
  {
   "cell_type": "code",
   "execution_count": null,
   "metadata": {},
   "outputs": [],
   "source": [
    "t2m_url = GetTileLayerUrl(t2m)\n",
    "tp_url = GetTileLayerUrl(tp)"
   ]
  },
  {
   "cell_type": "code",
   "execution_count": null,
   "metadata": {},
   "outputs": [],
   "source": [
    "map1 = ipyleaflet.Map(\n",
    "    zoom=2,\n",
    "    layout={'height':'500px'},\n",
    ")\n",
    "\n",
    "map1.add_layer(ipyleaflet.TileLayer(url=t2m_url))\n",
    "map1.add_layer(ipyleaflet.TileLayer(url=tp_url))\n",
    "\n",
    "# Adding some fance controls to the map, e.g. layers conrol, FullScreenControl\n",
    "map1.add_control(ipyleaflet.LayersControl())\n",
    "control = FullScreenControl()\n",
    "map1.add_control(control)\n",
    "\n",
    "map1"
   ]
  },
  {
   "cell_type": "markdown",
   "metadata": {},
   "source": [
    "### Get image url and apply visualization params to it"
   ]
  },
  {
   "cell_type": "code",
   "execution_count": null,
   "metadata": {},
   "outputs": [],
   "source": [
    "t2m_url = GetTileLayerUrl(t2m.visualize(min=250, max=310, palette=['#000080','#0000D9','#4000FF','#8000FF','#0080FF'\\\n",
    "                                                                   ,'#00FFFF','#00FF80','#80FF00','#DAFF00','#FFFF00','#FFF500','#FFDA00','#FFB000','#FFA400','#FF4F00','#FF2500','#FF0A00','#FF00FF']))\n",
    "tp_url = GetTileLayerUrl(tp.visualize(min=0, max=1, palette=['#FFFFFF', '#00FFFF', '#0080FF', '#DA00FF', '#FFA400','#FF0000']))"
   ]
  },
  {
   "cell_type": "code",
   "execution_count": null,
   "metadata": {},
   "outputs": [],
   "source": [
    "map2 = ipyleaflet.Map(\n",
    "    zoom=2,\n",
    "    layout={'height':'500px'},\n",
    ")\n",
    "\n",
    "map2.add_layer(ipyleaflet.TileLayer(url=t2m_url))\n",
    "map2.add_layer(ipyleaflet.TileLayer(url=tp_url))\n",
    "\n",
    "# Adding the layers control to the map.\n",
    "map2.add_control(ipyleaflet.LayersControl())\n",
    "control = FullScreenControl()\n",
    "map2.add_control(control)\n",
    "\n",
    "map2"
   ]
  },
  {
   "cell_type": "markdown",
   "metadata": {},
   "source": [
    "<hr>"
   ]
  },
  {
   "cell_type": "markdown",
   "metadata": {},
   "source": [
    "## <a id='earth_aws'></a> 2.3 Earth on AWS"
   ]
  },
  {
   "cell_type": "markdown",
   "metadata": {},
   "source": [
    "[Earth on AWS](\"https://aws.amazon.com/earth/\") is a registry of open geospatial datasets on Amazon Web Services.\n",
    "* [boto3](https://boto3.amazonaws.com/v1/documentation/api/latest/index.html) is the Amazon Web Services (AWS) SDK for Python in order e.g. to access data on AWS S3 storage\n",
    "\n",
    "A more detailed example to access ERA5 data from a S3 cloud storage bucket is available [here](https://github.com/planet-os/notebooks/blob/master/aws/era5-s3-via-boto.ipynb), generated by Intertrust Technologies Corporation."
   ]
  },
  {
   "cell_type": "code",
   "execution_count": null,
   "metadata": {},
   "outputs": [],
   "source": [
    "import boto3\n",
    "import botocore"
   ]
  },
  {
   "cell_type": "code",
   "execution_count": null,
   "metadata": {},
   "outputs": [],
   "source": [
    "era5_bucket = 'era5-pds'\n",
    "\n",
    "# No AWS keys required\n",
    "client = boto3.client('s3', config=botocore.client.Config(signature_version=botocore.UNSIGNED))"
   ]
  },
  {
   "cell_type": "code",
   "execution_count": null,
   "metadata": {},
   "outputs": [],
   "source": [
    "paginator = client.get_paginator('list_objects')\n",
    "result = paginator.paginate(Bucket=era5_bucket, Delimiter='/')\n",
    "for prefix in result.search('CommonPrefixes'):\n",
    "    print(prefix.get('Prefix'))"
   ]
  },
  {
   "cell_type": "markdown",
   "metadata": {},
   "source": [
    "<hr>\n",
    "&copy; 2019 | Julia Wagemann\n",
    "<a rel=\"license\" href=\"http://creativecommons.org/licenses/by/4.0/\"><img style=\"float: right\" alt=\"Creative Commons Lizenzvertrag\" style=\"border-width:0\" src=\"https://i.creativecommons.org/l/by/4.0/88x31.png\" /></a>"
   ]
  }
 ],
 "metadata": {
  "kernelspec": {
   "display_name": "Python 3",
   "language": "python",
   "name": "python3"
  },
  "language_info": {
   "codemirror_mode": {
    "name": "ipython",
    "version": 3
   },
   "file_extension": ".py",
   "mimetype": "text/x-python",
   "name": "python",
   "nbconvert_exporter": "python",
   "pygments_lexer": "ipython3",
   "version": "3.7.0"
  }
 },
 "nbformat": 4,
 "nbformat_minor": 2
}

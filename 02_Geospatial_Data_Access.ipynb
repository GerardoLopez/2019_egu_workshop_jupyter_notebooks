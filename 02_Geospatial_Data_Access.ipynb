{
 "cells": [
  {
   "cell_type": "markdown",
   "metadata": {},
   "source": [
    "# 2 Big Earth Data Access\n",
    "### from different data repositories, e.g. Climate Data Store, Google Earth Engine or Earth on AWS"
   ]
  },
  {
   "cell_type": "markdown",
   "metadata": {},
   "source": [
    "<hr>\n",
    "<a href=\"./01_Introduction_Jupyter_Notebooks.ipynb\"><< 1 - Introduction to Jupyter Notebooks</a>&nbsp;<space>&nbsp;<space>&nbsp;<space>&nbsp;<space>&nbsp;<space>&nbsp;<space>&nbsp;<space>&nbsp;<space>&nbsp;<space>&nbsp;<space> <a href=\"./03_Introduction_Jupyter_widgets.ipynb\">3 - Introducing Jupyter widgets >></a>"
   ]
  },
  {
   "cell_type": "markdown",
   "metadata": {},
   "source": [
    "## Overview of Big Earth Data repositories\n",
    "\n",
    "There is a lot of open environmental data available. The problem is often that people do not know where to find the data and how to access it.\n",
    "We will go through three Big Earth Data repositories today.\n",
    "\n",
    "* [2.1 Copernicus Climate Data Store (CDS)](#cds)\n",
    "* [2.2 Google Earth Engine (GEE)](#gee)\n",
    "* [2.3 Earth on Amazon Web Services (AWS)](#earth_aws)\n",
    "\n"
   ]
  },
  {
   "cell_type": "markdown",
   "metadata": {},
   "source": [
    "<hr>"
   ]
  },
  {
   "cell_type": "markdown",
   "metadata": {},
   "source": [
    "## <a id=\"cds\"></a> 2.1 Copernicus Climate Data Store (CDS)"
   ]
  },
  {
   "cell_type": "markdown",
   "metadata": {},
   "source": [
    "The [Copernicus Climate Data Store (CDS)](cds.copernicus.eu) is a one-stop shop for information about the climate: past, present and future. It is operated by the [European Centre for Medium-Range Weather Forecasts(ECMWF)](https://ecmwf.int).\n",
    "\n",
    "It consists of two parts:\n",
    "* Access to Climate Datasets via a [web interface](https://cds.climate.copernicus.eu/cdsapp#!/search?type=dataset) or programmatically via the [Climate Data Store API](https://cds.climate.copernicus.eu/api-how-to)\n",
    "* Analyse and visualise climate data with the [Climate Data Store toolbox (Python interface)](https://cds.climate.copernicus.eu/user/login?destination=/toolbox-user)\n",
    "\n",
    "Data are natively available in GRIB and NetCDF."
   ]
  },
  {
   "cell_type": "markdown",
   "metadata": {},
   "source": [
    "### Data available on the CDS (a selection)"
   ]
  },
  {
   "cell_type": "markdown",
   "metadata": {},
   "source": [
    "The climate data store has a wide variety of climate data, e.g.:\n",
    "* **ERA5 climate reanalysis**\n",
    "* **Seasonal forecasts**\n",
    "* **Climate projections**\n",
    "* **Sectoral climate indices**\n",
    "\n",
    "Have a look and browse through [all the publicly available datasets on the CDS](https://cds.climate.copernicus.eu/cdsapp#!/search?type=dataset). \n",
    "\n",
    "ECMWF has many more publicly available datasets, e.g. data on flood, fire risk and air quality (provided by the Copernicus Atmosphere Monitoring Service). Have a look at [ECMWF's public datasets](https://apps.ecmwf.int/datasets/).\n"
   ]
  },
  {
   "cell_type": "markdown",
   "metadata": {},
   "source": [
    "### Example to download ERA5 data in GRIB"
   ]
  },
  {
   "cell_type": "markdown",
   "metadata": {},
   "source": [
    "Required non-standard libraries:\n",
    "* [cdsapi](https://pypi.org/project/cdsapi/)\n",
    "* [urllib](https://docs.python.org/3/library/urllib.html)"
   ]
  },
  {
   "cell_type": "code",
   "execution_count": 15,
   "metadata": {},
   "outputs": [
    {
     "name": "stderr",
     "output_type": "stream",
     "text": [
      "2019-04-04 22:16:33,533 INFO Sending request to https://cds.climate.copernicus.eu/api/v2/resources/reanalysis-era5-single-levels\n",
      "2019-04-04 22:16:33,905 INFO Request is queued\n"
     ]
    },
    {
     "ename": "KeyboardInterrupt",
     "evalue": "",
     "output_type": "error",
     "traceback": [
      "\u001b[0;31m---------------------------------------------------------------------------\u001b[0m",
      "\u001b[0;31mKeyboardInterrupt\u001b[0m                         Traceback (most recent call last)",
      "\u001b[0;32m<ipython-input-15-ec444e3122be>\u001b[0m in \u001b[0;36m<module>\u001b[0;34m()\u001b[0m\n\u001b[1;32m     36\u001b[0m \u001b[0;34m\u001b[0m\u001b[0m\n\u001b[1;32m     37\u001b[0m \u001b[0mfilename\u001b[0m \u001b[0;34m=\u001b[0m \u001b[0;34m\"era5_t2m_test.grib\"\u001b[0m\u001b[0;34m\u001b[0m\u001b[0m\n\u001b[0;32m---> 38\u001b[0;31m \u001b[0mdata\u001b[0m \u001b[0;34m=\u001b[0m \u001b[0mretrieve_func\u001b[0m\u001b[0;34m(\u001b[0m\u001b[0;34m)\u001b[0m\u001b[0;34m\u001b[0m\u001b[0m\n\u001b[0m\u001b[1;32m     39\u001b[0m \u001b[0murllib\u001b[0m\u001b[0;34m.\u001b[0m\u001b[0mrequest\u001b[0m\u001b[0;34m.\u001b[0m\u001b[0murlretrieve\u001b[0m\u001b[0;34m(\u001b[0m\u001b[0mdata\u001b[0m\u001b[0;34m.\u001b[0m\u001b[0mlocation\u001b[0m\u001b[0;34m,\u001b[0m \u001b[0mfilename\u001b[0m\u001b[0;34m)\u001b[0m\u001b[0;34m\u001b[0m\u001b[0m\n\u001b[1;32m     40\u001b[0m \u001b[0;34m\u001b[0m\u001b[0m\n",
      "\u001b[0;32m<ipython-input-15-ec444e3122be>\u001b[0m in \u001b[0;36mretrieve_func\u001b[0;34m()\u001b[0m\n\u001b[1;32m     31\u001b[0m             \u001b[0;34m'area'\u001b[0m\u001b[0;34m:\u001b[0m\u001b[0;34m'90/-180/-90/179.75'\u001b[0m\u001b[0;34m\u001b[0m\u001b[0m\n\u001b[1;32m     32\u001b[0m         },\n\u001b[0;32m---> 33\u001b[0;31m         'filename.grib')\n\u001b[0m\u001b[1;32m     34\u001b[0m     \u001b[0;32mreturn\u001b[0m \u001b[0mdata\u001b[0m\u001b[0;34m\u001b[0m\u001b[0m\n\u001b[1;32m     35\u001b[0m \u001b[0;34m\u001b[0m\u001b[0m\n",
      "\u001b[0;32m~/.virtualenvs/myvenv/lib/python3.7/site-packages/cdsapi/api.py\u001b[0m in \u001b[0;36mretrieve\u001b[0;34m(self, name, request, target)\u001b[0m\n\u001b[1;32m    227\u001b[0m \u001b[0;34m\u001b[0m\u001b[0m\n\u001b[1;32m    228\u001b[0m     \u001b[0;32mdef\u001b[0m \u001b[0mretrieve\u001b[0m\u001b[0;34m(\u001b[0m\u001b[0mself\u001b[0m\u001b[0;34m,\u001b[0m \u001b[0mname\u001b[0m\u001b[0;34m,\u001b[0m \u001b[0mrequest\u001b[0m\u001b[0;34m,\u001b[0m \u001b[0mtarget\u001b[0m\u001b[0;34m=\u001b[0m\u001b[0;32mNone\u001b[0m\u001b[0;34m)\u001b[0m\u001b[0;34m:\u001b[0m\u001b[0;34m\u001b[0m\u001b[0m\n\u001b[0;32m--> 229\u001b[0;31m         \u001b[0mresult\u001b[0m \u001b[0;34m=\u001b[0m \u001b[0mself\u001b[0m\u001b[0;34m.\u001b[0m\u001b[0m_api\u001b[0m\u001b[0;34m(\u001b[0m\u001b[0;34m'%s/resources/%s'\u001b[0m \u001b[0;34m%\u001b[0m \u001b[0;34m(\u001b[0m\u001b[0mself\u001b[0m\u001b[0;34m.\u001b[0m\u001b[0murl\u001b[0m\u001b[0;34m,\u001b[0m \u001b[0mname\u001b[0m\u001b[0;34m)\u001b[0m\u001b[0;34m,\u001b[0m \u001b[0mrequest\u001b[0m\u001b[0;34m)\u001b[0m\u001b[0;34m\u001b[0m\u001b[0m\n\u001b[0m\u001b[1;32m    230\u001b[0m         \u001b[0;32mif\u001b[0m \u001b[0mtarget\u001b[0m \u001b[0;32mis\u001b[0m \u001b[0;32mnot\u001b[0m \u001b[0;32mNone\u001b[0m\u001b[0;34m:\u001b[0m\u001b[0;34m\u001b[0m\u001b[0m\n\u001b[1;32m    231\u001b[0m             \u001b[0mresult\u001b[0m\u001b[0;34m.\u001b[0m\u001b[0mdownload\u001b[0m\u001b[0;34m(\u001b[0m\u001b[0mtarget\u001b[0m\u001b[0;34m)\u001b[0m\u001b[0;34m\u001b[0m\u001b[0m\n",
      "\u001b[0;32m~/.virtualenvs/myvenv/lib/python3.7/site-packages/cdsapi/api.py\u001b[0m in \u001b[0;36m_api\u001b[0;34m(self, url, request)\u001b[0m\n\u001b[1;32m    290\u001b[0m \u001b[0;34m\u001b[0m\u001b[0m\n\u001b[1;32m    291\u001b[0m                 \u001b[0mself\u001b[0m\u001b[0;34m.\u001b[0m\u001b[0mdebug\u001b[0m\u001b[0;34m(\u001b[0m\u001b[0;34m\"Request ID is %s, sleep %s\"\u001b[0m\u001b[0;34m,\u001b[0m \u001b[0mrid\u001b[0m\u001b[0;34m,\u001b[0m \u001b[0msleep\u001b[0m\u001b[0;34m)\u001b[0m\u001b[0;34m\u001b[0m\u001b[0m\n\u001b[0;32m--> 292\u001b[0;31m                 \u001b[0mtime\u001b[0m\u001b[0;34m.\u001b[0m\u001b[0msleep\u001b[0m\u001b[0;34m(\u001b[0m\u001b[0msleep\u001b[0m\u001b[0;34m)\u001b[0m\u001b[0;34m\u001b[0m\u001b[0m\n\u001b[0m\u001b[1;32m    293\u001b[0m                 \u001b[0msleep\u001b[0m \u001b[0;34m*=\u001b[0m \u001b[0;36m1.5\u001b[0m\u001b[0;34m\u001b[0m\u001b[0m\n\u001b[1;32m    294\u001b[0m                 \u001b[0;32mif\u001b[0m \u001b[0msleep\u001b[0m \u001b[0;34m>\u001b[0m \u001b[0mself\u001b[0m\u001b[0;34m.\u001b[0m\u001b[0msleep_max\u001b[0m\u001b[0;34m:\u001b[0m\u001b[0;34m\u001b[0m\u001b[0m\n",
      "\u001b[0;31mKeyboardInterrupt\u001b[0m: "
     ]
    }
   ],
   "source": [
    "import cdsapi\n",
    "import os\n",
    "import urllib\n",
    "import sys\n",
    "\n",
    "c = cdsapi.Client()\n",
    "\n",
    "os.chdir('./')\n",
    "\n",
    "def retrieve_func():\n",
    "    data = c.retrieve(\n",
    "        'reanalysis-era5-single-levels',\n",
    "        {\n",
    "            'product_type':'reanalysis',\n",
    "            'format':'grib',\n",
    "            'variable':[\n",
    "            '2m_temperature'\n",
    "            ],\n",
    "            'year':[\n",
    "                 '2000'\n",
    "            ],\n",
    "            'month':[\n",
    "                 '02'\n",
    "            ],\n",
    "            'day':[\n",
    "                '16'\n",
    "            ],\n",
    "            'time':[\n",
    "                '00:00'\n",
    "            ],\n",
    "            'area':'90/-180/-90/179.75'\n",
    "        },\n",
    "        'filename.grib')\n",
    "    return data\n",
    "\n",
    "\n",
    "filename = \"era5_t2m_test.grib\"\n",
    "data = retrieve_func()\n",
    "urllib.request.urlretrieve(data.location, filename)\n",
    "\n",
    "sys.exit()"
   ]
  },
  {
   "cell_type": "markdown",
   "metadata": {},
   "source": [
    "### Example to open a GRIB file with xarray and cfgrib "
   ]
  },
  {
   "cell_type": "markdown",
   "metadata": {},
   "source": [
    "Useful Python libraries to open GRIB files:\n",
    "* [xarray](http://xarray.pydata.org/en/stable/)\n",
    "* [cfgrib](https://github.com/ecmwf/cfgrib) - A Python interface that supports GRIB engine for the xarray library"
   ]
  },
  {
   "cell_type": "code",
   "execution_count": 12,
   "metadata": {},
   "outputs": [],
   "source": [
    " import xarray as xr"
   ]
  },
  {
   "cell_type": "code",
   "execution_count": null,
   "metadata": {},
   "outputs": [],
   "source": [
    "test = xr.open_dataset('era5_t2m_test.grib')"
   ]
  },
  {
   "cell_type": "markdown",
   "metadata": {},
   "source": [
    "### Good news for R users"
   ]
  },
  {
   "cell_type": "markdown",
   "metadata": {},
   "source": [
    "Koen Huefkens and Reto Stauffer just released the CRAN package [ecmwfr](https://cran.r-project.org/web/packages/ecmwfr/index.html), which is a programmatic interface to public data at ECMWF and on the CDS.\n",
    "\n",
    "* [ecmwfr](https://cran.r-project.org/web/packages/ecmwfr/index.html)"
   ]
  },
  {
   "cell_type": "markdown",
   "metadata": {},
   "source": [
    "<hr>"
   ]
  },
  {
   "cell_type": "markdown",
   "metadata": {},
   "source": [
    "## <a id='gee'></a> 2.2 Google Earth Engine"
   ]
  },
  {
   "cell_type": "markdown",
   "metadata": {},
   "source": [
    "[Google Earth Engine (GEE)](https://earthengine.google.com/) is a planetary-scale platform for Earth science data & analysis. \n",
    "\n",
    "There are several ways to work with the Google Earth Engine:\n",
    "* [Code Editor]( code.earthengine.google.com), a web-based IDE in Javascript\n",
    "* [Client libraries](https://github.com/google/earthengine-api) provide Javascript and Python wrapper functions for the Earth Engine API\n",
    "\n",
    "You have to sign up for GEE."
   ]
  },
  {
   "cell_type": "markdown",
   "metadata": {},
   "source": [
    "### Data available on GEE"
   ]
  },
  {
   "cell_type": "markdown",
   "metadata": {},
   "source": [
    "Earth Engine's data archive includes:\n",
    "* **Weather and Climate Data**\n",
    "    * A selection of ERA5 reanalysis **[SOON PUBLICLY AVAILABLE]**\n",
    "    * TRMM precipitation\n",
    "* **Imagery**\n",
    "    * Landsat\n",
    "    * Sentinel\n",
    "    * MODIS\n",
    "    \n",
    "... and many more. Have a look yourself at the [Earth Engine Data Catalog](https://developers.google.com/earth-engine/datasets/catalog/)."
   ]
  },
  {
   "cell_type": "markdown",
   "metadata": {},
   "source": [
    "### Example how to load an image from GEE and to interactively visualize it with ipyleaflet"
   ]
  },
  {
   "cell_type": "markdown",
   "metadata": {},
   "source": [
    "Required libraries:\n",
    "* [Earth Engine Python API](https://developers.google.com/earth-engine/python_install)\n",
    "* [ipyleaflet](https://ipyleaflet.readthedocs.io/en/latest/)"
   ]
  },
  {
   "cell_type": "code",
   "execution_count": 1,
   "metadata": {},
   "outputs": [],
   "source": [
    "import ee"
   ]
  },
  {
   "cell_type": "code",
   "execution_count": 2,
   "metadata": {},
   "outputs": [],
   "source": [
    "%matplotlib inline"
   ]
  },
  {
   "cell_type": "code",
   "execution_count": 3,
   "metadata": {},
   "outputs": [],
   "source": [
    "from ipyleaflet import Map, basemaps, basemap_to_tiles, FullScreenControl, Marker\n",
    "import ipyleaflet\n",
    "import ipywidgets\n",
    "import ipywidgets as widgets\n",
    "from IPython.display import display, clear_output"
   ]
  },
  {
   "cell_type": "code",
   "execution_count": 4,
   "metadata": {},
   "outputs": [],
   "source": [
    "ee.Initialize()"
   ]
  },
  {
   "cell_type": "markdown",
   "metadata": {},
   "source": [
    "Function below is taken from Tyler Erickson's [notebooks](https://github.com/tylere/EEUS2018-JupyterSession/blob/master/02%20-%20Interactive%20Maps.ipynb) for his Interactive Jupyter session at EEUS18."
   ]
  },
  {
   "cell_type": "code",
   "execution_count": 5,
   "metadata": {},
   "outputs": [],
   "source": [
    "def GetTileLayerUrl(ee_image_object):\n",
    "  map_id = ee.Image(ee_image_object).getMapId()\n",
    "  tile_url_template = \"https://earthengine.googleapis.com/map/{mapid}/{{z}}/{{x}}/{{y}}?token={token}\"\n",
    "  return tile_url_template.format(**map_id)"
   ]
  },
  {
   "cell_type": "markdown",
   "metadata": {},
   "source": [
    "### Load an ERA5 image and get image information"
   ]
  },
  {
   "cell_type": "code",
   "execution_count": 6,
   "metadata": {},
   "outputs": [
    {
     "data": {
      "text/plain": [
       "{'type': 'Image',\n",
       " 'bands': [{'id': 't2m',\n",
       "   'data_type': {'type': 'PixelType', 'precision': 'float'},\n",
       "   'dimensions': [1440, 721],\n",
       "   'crs': 'EPSG:4326',\n",
       "   'crs_transform': [0.25, 0.0, -180.125, 0.0, -0.25, 90.125]},\n",
       "  {'id': 'tp',\n",
       "   'data_type': {'type': 'PixelType', 'precision': 'float'},\n",
       "   'dimensions': [1440, 721],\n",
       "   'crs': 'EPSG:4326',\n",
       "   'crs_transform': [0.25, 0.0, -180.125, 0.0, -0.25, 90.125]}],\n",
       " 'version': 1554236476943184,\n",
       " 'id': 'projects/ecmwf/era5_monthly/200001',\n",
       " 'properties': {'system:time_start': 946684800000.0,\n",
       "  'month': 1.0,\n",
       "  'year': 2000.0,\n",
       "  'system:footprint': {'type': 'LinearRing',\n",
       "   'coordinates': [[-180.0, -90.0],\n",
       "    [180.0, -90.0],\n",
       "    [180.0, 90.0],\n",
       "    [-180.0, 90.0],\n",
       "    [-180.0, -90.0]]},\n",
       "  'system:time_end': 949363200000.0,\n",
       "  'system:asset_size': 8744264,\n",
       "  'system:index': '200001'}}"
      ]
     },
     "execution_count": 6,
     "metadata": {},
     "output_type": "execute_result"
    }
   ],
   "source": [
    "img_test = ee.Image('projects/ecmwf/era5_monthly/200001')\n",
    "img_test.getInfo()"
   ]
  },
  {
   "cell_type": "markdown",
   "metadata": {},
   "source": [
    "### Select one specific parameter"
   ]
  },
  {
   "cell_type": "code",
   "execution_count": 7,
   "metadata": {},
   "outputs": [],
   "source": [
    "t2m = img_test.select('t2m')\n",
    "tp = img_test.select('tp')"
   ]
  },
  {
   "cell_type": "markdown",
   "metadata": {},
   "source": [
    "### Get image url for visualization"
   ]
  },
  {
   "cell_type": "code",
   "execution_count": 8,
   "metadata": {},
   "outputs": [],
   "source": [
    "t2m_url = GetTileLayerUrl(t2m)\n",
    "tp_url = GetTileLayerUrl(tp)"
   ]
  },
  {
   "cell_type": "code",
   "execution_count": 9,
   "metadata": {},
   "outputs": [
    {
     "data": {
      "application/vnd.jupyter.widget-view+json": {
       "model_id": "081cd25d22fa4152a2e2a6555cb871be",
       "version_major": 2,
       "version_minor": 0
      },
      "text/plain": [
       "Map(basemap={'url': 'https://{s}.tile.openstreetmap.org/{z}/{x}/{y}.png', 'max_zoom': 19, 'attribution': 'Map …"
      ]
     },
     "metadata": {},
     "output_type": "display_data"
    }
   ],
   "source": [
    "map1 = ipyleaflet.Map(\n",
    "    zoom=2,\n",
    "    layout={'height':'500px'},\n",
    ")\n",
    "\n",
    "map1.add_layer(ipyleaflet.TileLayer(url=t2m_url))\n",
    "map1.add_layer(ipyleaflet.TileLayer(url=tp_url))\n",
    "\n",
    "# Adding some fance controls to the map, e.g. layers conrol, FullScreenControl\n",
    "map1.add_control(ipyleaflet.LayersControl())\n",
    "control = FullScreenControl()\n",
    "map1.add_control(control)\n",
    "\n",
    "map1"
   ]
  },
  {
   "cell_type": "markdown",
   "metadata": {},
   "source": [
    "### Get image url and apply visualization params to it"
   ]
  },
  {
   "cell_type": "code",
   "execution_count": 10,
   "metadata": {},
   "outputs": [],
   "source": [
    "t2m_url = GetTileLayerUrl(t2m.visualize(min=250, max=330, palette=['#000080','#0000D9','#4000FF','#8000FF','#0080FF'\\\n",
    "                                                                   ,'#00FFFF','#00FF80','#80FF00','#DAFF00','#FFFF00','#FFF500','#FFDA00','#FFB000','#FFA400','#FF4F00','#FF2500','#FF0A00','#FF00FF']))\n",
    "tp_url = GetTileLayerUrl(tp.visualize(min=0, max=1, palette=['#FFFFFF', '#00FFFF', '#0080FF', '#DA00FF', '#FFA400','#FF0000']))"
   ]
  },
  {
   "cell_type": "code",
   "execution_count": 11,
   "metadata": {},
   "outputs": [
    {
     "data": {
      "application/vnd.jupyter.widget-view+json": {
       "model_id": "78b950af4f5f4de29824b900762c867a",
       "version_major": 2,
       "version_minor": 0
      },
      "text/plain": [
       "Map(basemap={'url': 'https://{s}.tile.openstreetmap.org/{z}/{x}/{y}.png', 'max_zoom': 19, 'attribution': 'Map …"
      ]
     },
     "metadata": {},
     "output_type": "display_data"
    }
   ],
   "source": [
    "map2 = ipyleaflet.Map(\n",
    "    zoom=2,\n",
    "    layout={'height':'500px'},\n",
    ")\n",
    "\n",
    "map2.add_layer(ipyleaflet.TileLayer(url=t2m_url))\n",
    "map2.add_layer(ipyleaflet.TileLayer(url=tp_url))\n",
    "\n",
    "# Adding the layers control to the map.\n",
    "map2.add_control(ipyleaflet.LayersControl())\n",
    "control = FullScreenControl()\n",
    "map2.add_control(control)\n",
    "\n",
    "map2"
   ]
  },
  {
   "cell_type": "markdown",
   "metadata": {},
   "source": [
    "<hr>"
   ]
  },
  {
   "cell_type": "markdown",
   "metadata": {},
   "source": [
    "## <a id='earth_aws'></a> 2.3 Earth on AWS"
   ]
  },
  {
   "cell_type": "markdown",
   "metadata": {},
   "source": [
    "[Earth on AWS](\"https://aws.amazon.com/earth/\") is a registry of open geospatial datasets on Amazon Web Services.\n",
    "* [boto3](https://boto3.amazonaws.com/v1/documentation/api/latest/index.html) is the Amazon Web Services (AWS) SDK for Python in order e.g. to access data on AWS S3 storage\n",
    "\n",
    "The following example to access ERA5 data from a S3 cloud storage bucket is taken from the [example notebooks](https://github.com/planet-os/notebooks/blob/master/aws/era5-s3-via-boto.ipynb) generated by Intertrust Technologies Corporation."
   ]
  },
  {
   "cell_type": "code",
   "execution_count": 283,
   "metadata": {},
   "outputs": [],
   "source": [
    "import boto3\n",
    "import botocore"
   ]
  },
  {
   "cell_type": "code",
   "execution_count": 284,
   "metadata": {},
   "outputs": [],
   "source": [
    "era5_bucket = 'era5-pds'\n",
    "\n",
    "# AWS access / secret keys required\n",
    "# s3 = boto3.resource('s3')\n",
    "# bucket = s3.Bucket(era5_bucket)\n",
    "\n",
    "# No AWS keys required\n",
    "client = boto3.client('s3', config=botocore.client.Config(signature_version=botocore.UNSIGNED))"
   ]
  },
  {
   "cell_type": "code",
   "execution_count": null,
   "metadata": {},
   "outputs": [],
   "source": [
    "paginator = client.get_paginator('list_objects')\n",
    "result = paginator.paginate(Bucket=era5_bucket, Delimiter='/')\n",
    "for prefix in result.search('CommonPrefixes'):\n",
    "    print(prefix.get('Prefix'))"
   ]
  },
  {
   "cell_type": "markdown",
   "metadata": {},
   "source": [
    "<hr>\n",
    "&copy; 2019 | Julia Wagemann\n",
    "<a rel=\"license\" href=\"http://creativecommons.org/licenses/by/4.0/\"><img style=\"float: right\" alt=\"Creative Commons Lizenzvertrag\" style=\"border-width:0\" src=\"https://i.creativecommons.org/l/by/4.0/88x31.png\" /></a>"
   ]
  }
 ],
 "metadata": {
  "kernelspec": {
   "display_name": "Python 3",
   "language": "python",
   "name": "python3"
  },
  "language_info": {
   "codemirror_mode": {
    "name": "ipython",
    "version": 3
   },
   "file_extension": ".py",
   "mimetype": "text/x-python",
   "name": "python",
   "nbconvert_exporter": "python",
   "pygments_lexer": "ipython3",
   "version": "3.7.0"
  }
 },
 "nbformat": 4,
 "nbformat_minor": 2
}

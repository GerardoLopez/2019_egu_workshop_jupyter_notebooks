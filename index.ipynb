{
 "cells": [
  {
   "cell_type": "markdown",
   "metadata": {},
   "source": [
    "### Short course\n",
    "# Interactive analysis of Big Earth Data with Jupyter Notebooks"
   ]
  },
  {
   "cell_type": "markdown",
   "metadata": {},
   "source": [
    "Short course created for EGU 2019 <br>\n",
    "Wednesday, 10 April 2019, 16:15 - 17:55 | Room -2.62"
   ]
  },
  {
   "cell_type": "markdown",
   "metadata": {},
   "source": [
    "### Presenter\n",
    "Julia Wagemann | PhD candidate at University of Marburg and Visiting Scientist at [ECMWF](https://ecmwf.int)\n",
    "\n",
    "Twitter: [@JuliaWagemann](https://twitter.com/JuliaWagemann) <br>\n",
    "GitHub: [@jwagemann](https://github.com/jwagemann)\n",
    "\n",
    "### Short course material\n",
    "On GitHub: [https://github.com/jwagemann/2019_egu_workshop_jupyter_notebooks](https://github.com/jwagemann/2019_egu_workshop_jupyter_notebooks) <br>\n",
    "View it with Nbviewer: [https://nbviewer.jupyter.org/github/jwagemann/2019_egu_workshop_jupyter_notebooks/blob/master/index.ipynb](https://nbviewer.jupyter.org/github/jwagemann/2019_egu_workshop_jupyter_notebooks/blob/master/index.ipynb) \n",
    "<hr>"
   ]
  },
  {
   "cell_type": "markdown",
   "metadata": {},
   "source": [
    "## Outline"
   ]
  },
  {
   "cell_type": "markdown",
   "metadata": {},
   "source": [
    "<br>\n",
    "\n",
    "|Time|Content|\n",
    "|---------|-----------|\n",
    "|16:15 - 16:35| [<b>Introducing Jupyter Notebooks - Data analysis made simple</b>](./01_Introduction_Jupyter_Notebooks.ipynb) |\n",
    "|16:35 - 17:05 | [<b>Data access with Jupyter Notebooks from different data repositories</b>](./02_Geospatial_Data_Access.ipynb) |\n",
    "|17:05 - 17:35 | [<b>Introducing Jupyter widgets - Make your data analysis and visualisation interactive</b>](./03_Introduction_Jupyter_widgets.ipynb) |\n",
    "|17:35 - 17:55 | [<b>Jupyterlab, JupyterHub, ... - Getting to know the Jupyter environment</b>](./04_Jupyter_Environment.ipynb)|\n",
    "\n",
    "<hr>"
   ]
  },
  {
   "cell_type": "markdown",
   "metadata": {},
   "source": [
    "## At the end of this short course"
   ]
  },
  {
   "cell_type": "markdown",
   "metadata": {},
   "source": [
    "* you hopefully have an idea about the **benefits of Jupyter notebooks** and understand the Jupyter environment better\n",
    "* you got an **overview of different data platforms to retrieve large volumes of environmental data** (meteorological, climate, Earth Observation)\n",
    "* You got an **overview of different python libraries to efficiently access and process Big Earth Data**\n",
    "* You were shown some **options to make your analysis / visualization interactive**"
   ]
  },
  {
   "cell_type": "markdown",
   "metadata": {},
   "source": [
    "<hr>"
   ]
  },
  {
   "cell_type": "markdown",
   "metadata": {},
   "source": [
    "## Python developers - Come and team up with ECMWF mentors during the summer "
   ]
  },
  {
   "cell_type": "markdown",
   "metadata": {},
   "source": [
    "<img src=\"./img/2019_esowc_banner.png\" align=\"center\" width=\"80%\"></img>\n",
    "\n",
    "<br>\n",
    "\n",
    "#### More information\n",
    "* [GitHub](https://github.com/esowc/challenges_2019) - https://github.com/esowc/challenges_2019\n",
    "* [Website](https://www.ecmwf.int/en/learning/workshops/ecmwf-summer-weather-code-2019) - https://www.ecmwf.int/en/learning/workshops/ecmwf-summer-weather-code-2019\n",
    "\n",
    "**Deadline for proposal submission: 21 April 2019**"
   ]
  },
  {
   "cell_type": "markdown",
   "metadata": {},
   "source": [
    "<hr>"
   ]
  },
  {
   "cell_type": "markdown",
   "metadata": {},
   "source": [
    "## Further resources"
   ]
  },
  {
   "cell_type": "markdown",
   "metadata": {},
   "source": [
    "#### Jupyter \n",
    "* <a href=\"https://jupyter.org/\">Project Jupyter website</a>\n",
    "* <a href=\"https://www.nature.com/articles/d41586-018-07196-1\">Why Jupyter is Data Scientist's computational notebook of choice</a>\n",
    "\n",
    "\n",
    "#### Data platforms\n",
    "* [Copernicus Climate Data Store](https://cds.copernicus.eu)\n",
    "* [Google Earth Engine](https://earthengine.google.com)\n",
    "* [Earth on AWS](https://aws.amazon.com/earth/) "
   ]
  },
  {
   "cell_type": "markdown",
   "metadata": {},
   "source": [
    "<hr>\n",
    "&copy; 2019 | Julia Wagemann\n",
    "<a rel=\"license\" href=\"http://creativecommons.org/licenses/by/4.0/\"><img style=\"float: right\" alt=\"Creative Commons Lizenzvertrag\" style=\"border-width:0\" src=\"https://i.creativecommons.org/l/by/4.0/88x31.png\" /></a>"
   ]
  }
 ],
 "metadata": {
  "kernelspec": {
   "display_name": "Python 3",
   "language": "python",
   "name": "python3"
  },
  "language_info": {
   "codemirror_mode": {
    "name": "ipython",
    "version": 3
   },
   "file_extension": ".py",
   "mimetype": "text/x-python",
   "name": "python",
   "nbconvert_exporter": "python",
   "pygments_lexer": "ipython3",
   "version": "3.7.0"
  }
 },
 "nbformat": 4,
 "nbformat_minor": 2
}

{
 "cells": [
  {
   "cell_type": "markdown",
   "metadata": {},
   "source": [
    "### Short course\n",
    "# Interactive analysis of Big Earth Data with Jupyter Notebooks"
   ]
  },
  {
   "cell_type": "markdown",
   "metadata": {},
   "source": [
    "Short course created for EGU 2019 <br>\n",
    "Wednesday, 10 April 2019, 16:15 - 17:55 | Room -2.62"
   ]
  },
  {
   "cell_type": "markdown",
   "metadata": {},
   "source": [
    "### Presenter\n",
    "Julia Wagemann | PhD candidate at Philipps University Marburg and Visiting Scientist at ECMWF <br>\n",
    "Twitter: [@JuliaWagemann](https://twitter.com/JuliaWagemann)\n",
    "\n",
    "<hr>"
   ]
  },
  {
   "cell_type": "markdown",
   "metadata": {},
   "source": [
    "## Outline"
   ]
  },
  {
   "cell_type": "markdown",
   "metadata": {},
   "source": [
    "<br>\n",
    "\n",
    "|Time|Content|\n",
    "|---------|-----------|\n",
    "|16:15 - 16:35| [<b>Introducing Jupyter Notebooks - Data analysis made simple</b>](./01_Introduction_Jupyter_Notebooks.ipynb) |\n",
    "|16:35 - 17:05 | [<b>Data access with Jupyter Notebooks from different data repositories</b>](./02_Geospatial_Data_Access.ipynb) |\n",
    "|17:05 - 17:35 | [<b>Introducing Jupyter widgets - Make your data analysis and visualisation interactive</b>](./03_Introduction_Jupyter_widgets.ipynb) |\n",
    "|17:35 - 17:55 | [<b>Jupyterlab, JupyterHub, ... - Getting to know the Jupyter environment</b>](./04_Jupyter_Environment.ipynb)|\n",
    "\n",
    "<hr>"
   ]
  },
  {
   "cell_type": "markdown",
   "metadata": {},
   "source": [
    "## At the end of this short course..."
   ]
  },
  {
   "cell_type": "markdown",
   "metadata": {},
   "source": [
    "* You should have got an overview of different climate data repositories\n",
    "* You should have an idea of different python libraries to access and process Big Earth Data\n",
    "* You should have got an overview of beauty of Jupyter Notebooks\n",
    "* You should have got an idea how to interactively analyse / visualize Big Earth Data with widgets"
   ]
  },
  {
   "cell_type": "markdown",
   "metadata": {},
   "source": [
    "## Further resources"
   ]
  },
  {
   "cell_type": "markdown",
   "metadata": {},
   "source": [
    "* <a href=\"https://jupyter.org/\">Project Jupyter website</a>\n",
    "* <a href=\"https://www.nature.com/articles/d41586-018-07196-1\">Why Jupyter is Data Scientist's computational notebook of choice</a>"
   ]
  },
  {
   "cell_type": "markdown",
   "metadata": {},
   "source": [
    "<hr>\n",
    "&copy; 2019 | Julia Wagemann\n",
    "<a rel=\"license\" href=\"http://creativecommons.org/licenses/by/4.0/\"><img style=\"float: right\" alt=\"Creative Commons Lizenzvertrag\" style=\"border-width:0\" src=\"https://i.creativecommons.org/l/by/4.0/88x31.png\" /></a>"
   ]
  }
 ],
 "metadata": {
  "kernelspec": {
   "display_name": "Python 3",
   "language": "python",
   "name": "python3"
  },
  "language_info": {
   "codemirror_mode": {
    "name": "ipython",
    "version": 3
   },
   "file_extension": ".py",
   "mimetype": "text/x-python",
   "name": "python",
   "nbconvert_exporter": "python",
   "pygments_lexer": "ipython3",
   "version": "3.7.0"
  }
 },
 "nbformat": 4,
 "nbformat_minor": 2
}
